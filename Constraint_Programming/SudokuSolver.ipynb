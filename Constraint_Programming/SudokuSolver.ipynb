{
 "cells": [
  {
   "cell_type": "markdown",
   "metadata": {},
   "source": [
    "# Sudoku-Solver\n",
    "---\n",
    "_**Module**: HSLU - Artificial Intelligence - Search & Optimization (AISO)_  \n",
    "_**Source**: Slides \"Constraint programming 1 - Modelling with OR-Tools\"_  \n",
    "_**Author**: Prof. Dr. Marc Pouly_"
   ]
  },
  {
   "cell_type": "markdown",
   "metadata": {},
   "source": [
    ">Fill in numbers from 1 to 9 so that each row, column and 3x3 block contains each number exactly once."
   ]
  },
  {
   "cell_type": "markdown",
   "metadata": {},
   "source": [
    "![Sudoku](images/Sudoku.png)"
   ]
  },
  {
   "cell_type": "markdown",
   "metadata": {},
   "source": [
    "## Imports"
   ]
  },
  {
   "cell_type": "code",
   "execution_count": 1,
   "metadata": {},
   "outputs": [],
   "source": [
    "from ortools.constraint_solver import pywrapcp\n",
    "import itertools\n",
    "import numpy as np"
   ]
  },
  {
   "cell_type": "markdown",
   "metadata": {},
   "source": [
    "## Helper functions"
   ]
  },
  {
   "cell_type": "code",
   "execution_count": 2,
   "metadata": {},
   "outputs": [],
   "source": [
    "def printSolution(currentSolution):\n",
    "    # Top Line\n",
    "    print(\"╔═══════════╦═══════════╦═══════════╗\")\n",
    "    \n",
    "    # Field\n",
    "    for row in range(9):\n",
    "        newRow = \"║ \"\n",
    "        \n",
    "        for column in range(9):\n",
    "            newRow += \"{}\".format(currentSolution[row][column].Value())\n",
    "            newRow += \" ║ \" if (column + 1) % 3 == 0 else \" │ \"            \n",
    "                                  \n",
    "        print(newRow)\n",
    "        \n",
    "        if((row == 2) or (row == 5)):\n",
    "            print(\"╠═══════════╬═══════════╬═══════════╣\")\n",
    "        else:\n",
    "            if (row != 8):\n",
    "                print(\"║───┼───┼───║───┼───┼───║───┼───┼───║\");\n",
    "        \n",
    "    # Bottom Line\n",
    "    print(\"╚═══════════╩═══════════╩═══════════╝\\n\")"
   ]
  },
  {
   "cell_type": "markdown",
   "metadata": {},
   "source": [
    "## Solution"
   ]
  },
  {
   "cell_type": "code",
   "execution_count": 3,
   "metadata": {},
   "outputs": [
    {
     "name": "stdout",
     "output_type": "stream",
     "text": [
      "╔═══════════╦═══════════╦═══════════╗\n",
      "║ 4 │ 2 │ 8 ║ 5 │ 6 │ 3 ║ 1 │ 7 │ 9 ║ \n",
      "║───┼───┼───║───┼───┼───║───┼───┼───║\n",
      "║ 3 │ 5 │ 9 ║ 1 │ 7 │ 2 ║ 4 │ 6 │ 8 ║ \n",
      "║───┼───┼───║───┼───┼───║───┼───┼───║\n",
      "║ 7 │ 6 │ 1 ║ 4 │ 8 │ 9 ║ 5 │ 3 │ 2 ║ \n",
      "╠═══════════╬═══════════╬═══════════╣\n",
      "║ 1 │ 4 │ 6 ║ 3 │ 9 │ 8 ║ 2 │ 5 │ 7 ║ \n",
      "║───┼───┼───║───┼───┼───║───┼───┼───║\n",
      "║ 5 │ 9 │ 2 ║ 7 │ 4 │ 1 ║ 3 │ 8 │ 6 ║ \n",
      "║───┼───┼───║───┼───┼───║───┼───┼───║\n",
      "║ 8 │ 3 │ 7 ║ 6 │ 2 │ 5 ║ 9 │ 4 │ 1 ║ \n",
      "╠═══════════╬═══════════╬═══════════╣\n",
      "║ 2 │ 7 │ 4 ║ 9 │ 5 │ 6 ║ 8 │ 1 │ 3 ║ \n",
      "║───┼───┼───║───┼───┼───║───┼───┼───║\n",
      "║ 6 │ 8 │ 3 ║ 2 │ 1 │ 4 ║ 7 │ 9 │ 5 ║ \n",
      "║───┼───┼───║───┼───┼───║───┼───┼───║\n",
      "║ 9 │ 1 │ 5 ║ 8 │ 3 │ 7 ║ 6 │ 2 │ 4 ║ \n",
      "╚═══════════╩═══════════╩═══════════╝\n",
      "\n",
      "Solutions: 1\n",
      "Runtime: 3ms\n",
      "Failures: 20\n",
      "Branches: 40\n"
     ]
    }
   ],
   "source": [
    "solver = pywrapcp.Solver(\"Sudoku\")\n",
    "\n",
    "# 9x9 Matrix of Decision Variables in {1..9}:\n",
    "board = [[solver.IntVar(1, 9) for _j in range(9)] for _i in range(9)]\n",
    "\n",
    "# 9x9 Sudoku to resolve:\n",
    "sudoku = [\n",
    "    [4, 0, 8,  0, 0, 0,  0, 0, 0],\n",
    "    [0, 0, 0,  1, 7, 0,  0, 0, 0],\n",
    "    [0, 0, 0,  0, 8, 0,  0, 3, 2],\n",
    "    \n",
    "    [0, 0, 6,  0, 0, 8,  2, 5, 0],\n",
    "    [0, 9, 0,  0, 0, 0,  0, 8, 0],\n",
    "    [0, 3, 7,  6, 0, 0,  9, 0, 0],\n",
    "    \n",
    "    [2, 7, 0,  0, 5, 0,  0, 0, 0],\n",
    "    [0, 0, 0,  0, 1, 4,  0, 0, 0],\n",
    "    [0, 0, 0,  0, 0, 0,  6, 0, 4]\n",
    "]\n",
    "\n",
    "# Feed solver with the predefined Sudoku...\n",
    "for row in range(9):\n",
    "    for column in range(9):\n",
    "        if (sudoku[row][column]) != 0:\n",
    "            solver.Add(board[row][column] == sudoku[row][column])\n",
    "\n",
    "            \n",
    "# --------------------------------------------------------------------------------\n",
    "# Set constraints\n",
    "# --------------------------------------------------------------------------------\n",
    "# Each row/column contains only different values:\n",
    "for i in range(9):\n",
    "    solver.Add(solver.AllDifferent([board[i][j] for j in range(9)])) # Rows\n",
    "    solver.Add(solver.AllDifferent([board[j][i] for j in range(9)])) # Columns\n",
    "\n",
    "# Tuples (i, j) for all cell indices:\n",
    "cell_indices = list(itertools.product(range(3), repeat=2))\n",
    "\n",
    "# Every 3x3 cell contains only different values\n",
    "for i, j in cell_indices:\n",
    "    solver.Add(solver.AllDifferent([board[i * 3 + di] [j * 3 + dj] for di in range(3) for dj in range(3)]))\n",
    "\n",
    "    \n",
    "# --------------------------------------------------------------------------------\n",
    "# Now solve it!\n",
    "# --------------------------------------------------------------------------------\n",
    "db = solver.Phase(list(np.concatenate(board)), # Sudoku board as array\n",
    "                solver.INT_VAR_SIMPLE,       # Variable selection policy for search\n",
    "                solver.INT_VALUE_SIMPLE)     # Value selection policy for search\n",
    "\n",
    "solver.NewSearch(db)\n",
    "\n",
    "while solver.NextSolution():\n",
    "    printSolution(board)\n",
    "\n",
    "solver.EndSearch()\n",
    "\n",
    "#Display the number of solutions found:\n",
    "print(\"Solutions: {}\".format(solver.Solutions()))\n",
    "print(\"Runtime: {}ms\".format(solver.WallTime()))\n",
    "print(\"Failures: {}\".format(solver.Failures()))\n",
    "print(\"Branches: {}\".format(solver.Branches()))"
   ]
  },
  {
   "cell_type": "code",
   "execution_count": null,
   "metadata": {},
   "outputs": [],
   "source": []
  }
 ],
 "metadata": {
  "kernelspec": {
   "display_name": "Python 3",
   "language": "python",
   "name": "python3"
  },
  "language_info": {
   "codemirror_mode": {
    "name": "ipython",
    "version": 3
   },
   "file_extension": ".py",
   "mimetype": "text/x-python",
   "name": "python",
   "nbconvert_exporter": "python",
   "pygments_lexer": "ipython3",
   "version": "3.7.3"
  }
 },
 "nbformat": 4,
 "nbformat_minor": 2
}
