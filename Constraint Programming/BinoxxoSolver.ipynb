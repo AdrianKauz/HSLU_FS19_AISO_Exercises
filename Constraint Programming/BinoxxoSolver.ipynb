{
 "cells": [
  {
   "cell_type": "markdown",
   "metadata": {},
   "source": [
    "# Binoxxo-Solver\n",
    "---\n",
    "_**Module**: HSLU - Artificial Intelligence - Search & Optimization (AISO)_  \n",
    "_**Source**: Slides \"Constraint programming 1 - Modelling with OR-Tools\"_  \n",
    "_**Author**: Adrian Kauz_"
   ]
  },
  {
   "cell_type": "markdown",
   "metadata": {},
   "source": [
    ">Place X or O in the empty cells so that there are no more than two consecutive X's or O's in a row or a colum. The number of X's is the same as the number of O's in each row and column. All rows and columns are unique.  \n",
    "More precisely, the rows must be different from each other and separately, the columns must be differ from each other."
   ]
  },
  {
   "cell_type": "markdown",
   "metadata": {},
   "source": [
    "![Binoxxo](images/Binoxxo.png)"
   ]
  },
  {
   "cell_type": "markdown",
   "metadata": {},
   "source": [
    "## Imports"
   ]
  },
  {
   "cell_type": "code",
   "execution_count": 7,
   "metadata": {},
   "outputs": [],
   "source": [
    "from ortools.constraint_solver import pywrapcp\n",
    "import numpy as np"
   ]
  },
  {
   "cell_type": "markdown",
   "metadata": {},
   "source": [
    "## Helper functions"
   ]
  },
  {
   "cell_type": "code",
   "execution_count": 2,
   "metadata": {},
   "outputs": [],
   "source": [
    "def printSolution(currentSolution):\n",
    "    print(\"Possible solution:\")\n",
    "    \n",
    "    for row in range(len(currentSolution)):\n",
    "        currentRow = \"\"\n",
    "        for column in range(len(currentSolution[row])):\n",
    "            if(currentSolution[row][column].Value() == 0):\n",
    "                currentRow += \"O \"\n",
    "            else:\n",
    "                currentRow += \"X \"\n",
    "            \n",
    "        print(currentRow)\n",
    "        \n",
    "    print(\"\")"
   ]
  },
  {
   "cell_type": "markdown",
   "metadata": {},
   "source": [
    "## Solution"
   ]
  },
  {
   "cell_type": "code",
   "execution_count": 9,
   "metadata": {},
   "outputs": [
    {
     "name": "stdout",
     "output_type": "stream",
     "text": [
      "Possible solution:\n",
      "X O O X O X O X \n",
      "O O X O X X O X \n",
      "O X X O X O X O \n",
      "X O O X O O X X \n",
      "X X O X O X O O \n",
      "O X X O X O O X \n",
      "X O X O O X X O \n",
      "O X O X X O X O \n",
      "\n",
      "Solutions: 1\n",
      "Runtime: 11ms\n",
      "Failures: 9\n",
      "Branches: 24\n"
     ]
    }
   ],
   "source": [
    "solver = pywrapcp.Solver(\"BinoxxoSolver\")\n",
    "\n",
    "# Binoxxo to resolve:\n",
    "O = 0\n",
    "X = 1\n",
    "_ = ''\n",
    "\n",
    "binoxxo = [\n",
    "    [_, _, _, _, _, _, _, _],\n",
    "    [O, _, _, _, _, _, _, _],\n",
    "    [_, X, X, _, _, O, _, _],\n",
    "    [_, _, _, _, _, _, X, X],\n",
    "    [_, _, _, X, _, _, _, _],\n",
    "    [_, _, _, _, _, _, _, _],\n",
    "    [_, _, _, _, O, _, _, O],\n",
    "    [_, _, _, X, _, _, X, _]\n",
    "]\n",
    "\n",
    "# Size of the board should be an even number. Read the rules then you know why.\n",
    "boardSize = len(binoxxo)\n",
    "\n",
    "# n x n Matrix of Decision Variables\n",
    "board = [[solver.IntVar(0, 1) for _j in range(boardSize)] for _i in range(boardSize)]\n",
    "\n",
    "# Feed solver with the Binoxxo Puzzle\n",
    "for row in range(boardSize):\n",
    "    for column in range(boardSize):\n",
    "        if (binoxxo[row][column] != ''):\n",
    "            solver.Add(board[row][column] == binoxxo[row][column])\n",
    "\n",
    "\n",
    "# --------------------------------------------------------------------------------\n",
    "# Set constraints\n",
    "# --------------------------------------------------------------------------------\n",
    "# Each row and each column should have an equal amount of X and O's:\n",
    "for i in range(boardSize):\n",
    "    solver.Add(solver.Sum([board[i][j] for j in range(boardSize)]) == int(boardSize / 2)) # Row\n",
    "    solver.Add(solver.Sum([board[j][i] for j in range(boardSize)]) == int(boardSize / 2)) # Column\n",
    "\n",
    "# Each row and column should be different. Hint: Think in binary-patterns and their representation.\n",
    "for i in range(boardSize):\n",
    "    for x in range(i + 1, boardSize):\n",
    "        solver.Add(solver.Sum([board[i][j] * 2**j for j in range(boardSize)]) !=\n",
    "                   solver.Sum([board[x][j] * 2**j for j in range(boardSize)]))\n",
    "    \n",
    "        solver.Add(solver.Sum([board[j][i] * 2**j for j in range(boardSize)]) !=\n",
    "                   solver.Sum([board[j][x] * 2**j for j in range(boardSize)]))\n",
    "\n",
    "# Max two cells next to each other should have the same value\n",
    "for i in range(boardSize):\n",
    "    for j in range(boardSize - 2):\n",
    "        # Rows\n",
    "        solver.Add(solver.Sum([board[i][j + x] for x in range(3)]) > 0)\n",
    "        solver.Add(solver.Sum([board[i][j + x] for x in range(3)]) < 3)\n",
    "    \n",
    "        # Columns\n",
    "        solver.Add(solver.Sum([board[j + x][i] for x in range(3)]) > 0)\n",
    "        solver.Add(solver.Sum([board[j + x][i] for x in range(3)]) < 3)\n",
    "\n",
    "\n",
    "# --------------------------------------------------------------------------------\n",
    "# Now solve it!\n",
    "# --------------------------------------------------------------------------------\n",
    "db = solver.Phase(list(np.concatenate(board)), # Sudoku board as array\n",
    "                solver.INT_VAR_SIMPLE,         # Variable selection policy for search\n",
    "                solver.INT_VALUE_SIMPLE)       # Value selection policy for search\n",
    "\n",
    "solver.NewSearch(db)\n",
    "\n",
    "if solver.NextSolution():\n",
    "    printSolution(board)\n",
    "    \n",
    "solver.EndSearch()\n",
    "\n",
    "#Display the number of solutions found:\n",
    "print(\"Solutions: {}\".format(solver.Solutions()))\n",
    "print(\"Runtime: {}ms\".format(solver.WallTime()))\n",
    "print(\"Failures: {}\".format(solver.Failures()))\n",
    "print(\"Branches: {}\".format(solver.Branches()))"
   ]
  },
  {
   "cell_type": "code",
   "execution_count": null,
   "metadata": {},
   "outputs": [],
   "source": []
  }
 ],
 "metadata": {
  "kernelspec": {
   "display_name": "Python 3",
   "language": "python",
   "name": "python3"
  },
  "language_info": {
   "codemirror_mode": {
    "name": "ipython",
    "version": 3
   },
   "file_extension": ".py",
   "mimetype": "text/x-python",
   "name": "python",
   "nbconvert_exporter": "python",
   "pygments_lexer": "ipython3",
   "version": "3.7.3"
  }
 },
 "nbformat": 4,
 "nbformat_minor": 2
}
