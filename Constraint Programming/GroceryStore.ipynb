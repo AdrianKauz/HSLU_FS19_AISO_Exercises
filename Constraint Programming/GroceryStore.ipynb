{
 "cells": [
  {
   "cell_type": "markdown",
   "metadata": {},
   "source": [
    "# Grocery Store Puzzle"
   ]
  },
  {
   "cell_type": "markdown",
   "metadata": {},
   "source": [
    "A kid goes into a grocery store and buys four items. The cashier charges £7.11, the kid pays and is about to leave when the cashier calls the kid back, and says:  \n",
    "\n",
    "\"Hold on, I multiplied the four items instead of adding them; I'll try again; Hah, with adding them the price still comes to £7.11.\"\n",
    "\n",
    "What were the prices of the four items?"
   ]
  },
  {
   "cell_type": "markdown",
   "metadata": {},
   "source": [
    "Imports"
   ]
  },
  {
   "cell_type": "code",
   "execution_count": 4,
   "metadata": {},
   "outputs": [],
   "source": [
    "from ortools.constraint_solver import pywrapcp"
   ]
  },
  {
   "cell_type": "code",
   "execution_count": 6,
   "metadata": {},
   "outputs": [
    {
     "name": "stdout",
     "output_type": "stream",
     "text": [
      "Product 1: 120\n",
      "Product 2: 125\n",
      "Product 3: 150\n",
      "Product 4: 316\n",
      "Product 1: 120\n",
      "Product 2: 125\n",
      "Product 3: 316\n",
      "Product 4: 150\n",
      "Product 1: 120\n",
      "Product 2: 150\n",
      "Product 3: 125\n",
      "Product 4: 316\n",
      "Product 1: 120\n",
      "Product 2: 150\n",
      "Product 3: 316\n",
      "Product 4: 125\n",
      "Product 1: 120\n",
      "Product 2: 316\n",
      "Product 3: 125\n",
      "Product 4: 150\n",
      "Product 1: 120\n",
      "Product 2: 316\n",
      "Product 3: 150\n",
      "Product 4: 125\n",
      "Product 1: 125\n",
      "Product 2: 120\n",
      "Product 3: 150\n",
      "Product 4: 316\n",
      "Product 1: 125\n",
      "Product 2: 120\n",
      "Product 3: 316\n",
      "Product 4: 150\n",
      "Product 1: 125\n",
      "Product 2: 150\n",
      "Product 3: 120\n",
      "Product 4: 316\n",
      "Product 1: 125\n",
      "Product 2: 150\n",
      "Product 3: 316\n",
      "Product 4: 120\n",
      "Product 1: 125\n",
      "Product 2: 316\n",
      "Product 3: 120\n",
      "Product 4: 150\n",
      "Product 1: 125\n",
      "Product 2: 316\n",
      "Product 3: 150\n",
      "Product 4: 120\n",
      "Product 1: 150\n",
      "Product 2: 120\n",
      "Product 3: 125\n",
      "Product 4: 316\n",
      "Product 1: 150\n",
      "Product 2: 120\n",
      "Product 3: 316\n",
      "Product 4: 125\n",
      "Product 1: 150\n",
      "Product 2: 125\n",
      "Product 3: 120\n",
      "Product 4: 316\n",
      "Product 1: 150\n",
      "Product 2: 125\n",
      "Product 3: 316\n",
      "Product 4: 120\n",
      "Product 1: 150\n",
      "Product 2: 316\n",
      "Product 3: 120\n",
      "Product 4: 125\n",
      "Product 1: 150\n",
      "Product 2: 316\n",
      "Product 3: 125\n",
      "Product 4: 120\n",
      "Product 1: 316\n",
      "Product 2: 120\n",
      "Product 3: 125\n",
      "Product 4: 150\n",
      "Product 1: 316\n",
      "Product 2: 120\n",
      "Product 3: 150\n",
      "Product 4: 125\n",
      "Product 1: 316\n",
      "Product 2: 125\n",
      "Product 3: 120\n",
      "Product 4: 150\n",
      "Product 1: 316\n",
      "Product 2: 125\n",
      "Product 3: 150\n",
      "Product 4: 120\n",
      "Product 1: 316\n",
      "Product 2: 150\n",
      "Product 3: 120\n",
      "Product 4: 125\n",
      "Product 1: 316\n",
      "Product 2: 150\n",
      "Product 3: 125\n",
      "Product 4: 120\n"
     ]
    }
   ],
   "source": [
    "solver = pywrapcp.Solver(\"Grocery Store\")\n",
    "\n",
    "# One variable for each product\n",
    "p1 = solver.IntVar(0, 711)\n",
    "p2 = solver.IntVar(0, 711)\n",
    "p3 = solver.IntVar(0, 711)\n",
    "p4 = solver.IntVar(0, 711)\n",
    "\n",
    "# Proces add up to 711:\n",
    "solver.Add(p1 + p2 + p3 + p4 == 711)\n",
    "\n",
    "# Product of prices is 711:\n",
    "solver.Add(p1 * p2 * p3 * p4 == 711 * 100 * 100 * 100)\n",
    "\n",
    "db = solver.Phase([p1, p2, p3, p4],\n",
    "                  solver.INT_VAR_SIMPLE,\n",
    "                  solver.INT_VALUE_SIMPLE)\n",
    "\n",
    "solver.NewSearch(db)\n",
    "\n",
    "while solver.NextSolution():\n",
    "    print(\"Product 1: {}\".format(p1.Value()))\n",
    "    print(\"Product 2: {}\".format(p2.Value()))\n",
    "    print(\"Product 3: {}\".format(p3.Value()))\n",
    "    print(\"Product 4: {}\".format(p4.Value()))\n",
    "\n",
    "solver.EndSearch()"
   ]
  },
  {
   "cell_type": "code",
   "execution_count": null,
   "metadata": {},
   "outputs": [],
   "source": []
  }
 ],
 "metadata": {
  "kernelspec": {
   "display_name": "Python 3",
   "language": "python",
   "name": "python3"
  },
  "language_info": {
   "codemirror_mode": {
    "name": "ipython",
    "version": 3
   },
   "file_extension": ".py",
   "mimetype": "text/x-python",
   "name": "python",
   "nbconvert_exporter": "python",
   "pygments_lexer": "ipython3",
   "version": "3.7.3"
  }
 },
 "nbformat": 4,
 "nbformat_minor": 2
}
