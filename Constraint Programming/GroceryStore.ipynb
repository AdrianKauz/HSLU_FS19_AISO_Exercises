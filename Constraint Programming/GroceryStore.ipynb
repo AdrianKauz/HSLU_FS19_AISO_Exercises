{
 "cells": [
  {
   "cell_type": "markdown",
   "metadata": {},
   "source": [
    "# Grocery Store Puzzle\n",
    "---\n",
    "_**Source**: Slides \"Constraint programming 1 - Modelling with OR-Tools\"_  \n",
    "_**Author**: Prof. Dr. Marc Pouly_"
   ]
  },
  {
   "cell_type": "markdown",
   "metadata": {},
   "source": [
    "> _A kid goes into a grocery store and buys four items. The cashier charges £7.11, the kid pays and is about to leave when the cashier calls the kid back, and says:  \n",
    "\"Hold on, I multiplied the four items instead of adding them; I'll try again; Hah, with adding them the price still comes to £7.11.\"  \n",
    "What were the prices of the four items?_"
   ]
  },
  {
   "cell_type": "markdown",
   "metadata": {},
   "source": [
    "## Imports"
   ]
  },
  {
   "cell_type": "code",
   "execution_count": 4,
   "metadata": {},
   "outputs": [],
   "source": [
    "from ortools.constraint_solver import pywrapcp"
   ]
  },
  {
   "cell_type": "markdown",
   "metadata": {},
   "source": [
    "## Helper functions"
   ]
  },
  {
   "cell_type": "code",
   "execution_count": 23,
   "metadata": {},
   "outputs": [],
   "source": [
    "def printSolution( p1, p2, p3, p4):\n",
    "    print(\"Solution\\n----------------\")\n",
    "    print(\"Product 1: {:01.2f}£\".format(p1/100))\n",
    "    print(\"Product 2: {:01.2f}£\".format(p2/100))\n",
    "    print(\"Product 3: {:01.2f}£\".format(p3/100))\n",
    "    print(\"Product 4: {:01.2f}£\".format(p4/100))\n",
    "    print()"
   ]
  },
  {
   "cell_type": "markdown",
   "metadata": {},
   "source": [
    "## Solution"
   ]
  },
  {
   "cell_type": "code",
   "execution_count": 24,
   "metadata": {},
   "outputs": [
    {
     "name": "stdout",
     "output_type": "stream",
     "text": [
      "Solution\n",
      "----------------\n",
      "Product 1: 1.20£\n",
      "Product 2: 1.25£\n",
      "Product 3: 1.50£\n",
      "Product 4: 3.16£\n",
      "\n"
     ]
    }
   ],
   "source": [
    "solver = pywrapcp.Solver(\"Grocery Store\")\n",
    "\n",
    "# One variable for each product\n",
    "p1 = solver.IntVar(0, 711)\n",
    "p2 = solver.IntVar(0, 711)\n",
    "p3 = solver.IntVar(0, 711)\n",
    "p4 = solver.IntVar(0, 711)\n",
    "\n",
    "# Process add up to 711:\n",
    "solver.Add(p1 + p2 + p3 + p4 == 711)\n",
    "\n",
    "# Product of prices is 711:\n",
    "solver.Add(p1 * p2 * p3 * p4 == 711 * 100 * 100 * 100)\n",
    "\n",
    "# Symmetry breaking constraints:\n",
    "solver.Add(p1 <= p2)\n",
    "solver.Add(p2 <= p3)\n",
    "solver.Add(p3 <= p4)\n",
    "\n",
    "db = solver.Phase([p1, p2, p3, p4],         # Decision variables to resolve\n",
    "                  solver.INT_VAR_SIMPLE,    # Variable selection policy for search\n",
    "                  solver.INT_VALUE_SIMPLE)  # Value selection policy for search\n",
    "\n",
    "solver.NewSearch(db)\n",
    "\n",
    "while solver.NextSolution():\n",
    "    printSolution(p1.Value(), p2.Value(), p3.Value(), p4.Value())\n",
    "\n",
    "solver.EndSearch()"
   ]
  },
  {
   "cell_type": "code",
   "execution_count": null,
   "metadata": {},
   "outputs": [],
   "source": []
  }
 ],
 "metadata": {
  "kernelspec": {
   "display_name": "Python 3",
   "language": "python",
   "name": "python3"
  },
  "language_info": {
   "codemirror_mode": {
    "name": "ipython",
    "version": 3
   },
   "file_extension": ".py",
   "mimetype": "text/x-python",
   "name": "python",
   "nbconvert_exporter": "python",
   "pygments_lexer": "ipython3",
   "version": "3.7.3"
  }
 },
 "nbformat": 4,
 "nbformat_minor": 2
}
