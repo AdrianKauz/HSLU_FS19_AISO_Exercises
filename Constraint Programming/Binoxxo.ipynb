{
 "cells": [
  {
   "cell_type": "markdown",
   "metadata": {},
   "source": [
    "# Binoxxo\n",
    "---\n",
    "_**Module**: HSLU - Artificial Intelligence - Search & Optimization (AISO)_  \n",
    "_**Source**: Slides \"Constraint programming 1 - Modelling with OR-Tools\"_  \n",
    "_**Author**: Adrian Kauz_"
   ]
  },
  {
   "cell_type": "markdown",
   "metadata": {},
   "source": [
    ">Place X or O in the empty cells so that there are no more than two consecutive X's or O's in a row or a colum. The number of X's is the same as the number of O's in each row and column. All rows and columns are unique.  \n",
    "More precisely, the rows must be different from each other and separately, the columns must be differ from each other."
   ]
  },
  {
   "cell_type": "markdown",
   "metadata": {},
   "source": [
    "*Put Image here*"
   ]
  },
  {
   "cell_type": "markdown",
   "metadata": {},
   "source": [
    "## Imports"
   ]
  },
  {
   "cell_type": "code",
   "execution_count": 1,
   "metadata": {},
   "outputs": [],
   "source": [
    "from ortools.constraint_solver import pywrapcp\n",
    "import itertools\n",
    "import numpy as np"
   ]
  },
  {
   "cell_type": "markdown",
   "metadata": {},
   "source": [
    "## Helper functions"
   ]
  },
  {
   "cell_type": "code",
   "execution_count": 35,
   "metadata": {},
   "outputs": [],
   "source": [
    "def printSolution(currentSolution):\n",
    "    print(\"Possible solution:\")\n",
    "    \n",
    "    for row in range(len(currentSolution)):\n",
    "        currentRow = \"\"\n",
    "        for column in range(len(currentSolution[row])):\n",
    "            if(currentSolution[row][column].Value() == 0):\n",
    "                currentRow += \"O \"\n",
    "            else:\n",
    "                currentRow += \"X \"\n",
    "            \n",
    "        print(currentRow)\n",
    "        \n",
    "    print(\"\")"
   ]
  },
  {
   "cell_type": "markdown",
   "metadata": {},
   "source": [
    "## Solution"
   ]
  },
  {
   "cell_type": "code",
   "execution_count": 37,
   "metadata": {},
   "outputs": [
    {
     "name": "stdout",
     "output_type": "stream",
     "text": [
      "Possible solution:\n",
      "O O O O O X X X X X \n",
      "O O O O X O X X X X \n",
      "O O O O X X O X X X \n",
      "O O O O X X X O X X \n",
      "O X X X O O O X O X \n",
      "X O X X O O O X X O \n",
      "X X O X O X X O O O \n",
      "X X X O X O X O O O \n",
      "X X X X O X O O O O \n",
      "X X X X X O O O O O \n",
      "\n",
      "Solutions: 1\n",
      "Runtime: 12ms\n",
      "Failures: 14\n",
      "Branches: 62\n"
     ]
    }
   ],
   "source": [
    "solver = pywrapcp.Solver(\"Binoxxo\")\n",
    "\n",
    "# Size of the board should be an even number. Read the rules then you know why.\n",
    "boardSize = 10 \n",
    "\n",
    "# n x n Matrix of Decision Variables\n",
    "board = [[solver.IntVar(0, 1) for _j in range(boardSize)] for _i in range(boardSize)]\n",
    "\n",
    "\n",
    "# --------------------------------------------------------------------------------\n",
    "# Set constraints\n",
    "# --------------------------------------------------------------------------------\n",
    "# Each row and each column should have an equal amount of X and O's:\n",
    "for i in range(boardSize):\n",
    "    solver.Add(solver.Sum([board[i][j] for j in range(boardSize)]) == int(boardSize / 2)) # Row\n",
    "    solver.Add(solver.Sum([board[j][i] for j in range(boardSize)]) == int(boardSize / 2)) # Column\n",
    "\n",
    "# Each row and column should be different. Hint: Think in binary-patterns and their representation.\n",
    "for i in range(boardSize):\n",
    "    for x in range(i + 1, boardSize):\n",
    "        solver.Add(solver.Sum([board[i][j] * 2**j for j in range(boardSize)]) !=\n",
    "                   solver.Sum([board[x][j] * 2**j for j in range(boardSize)]))\n",
    "    \n",
    "        solver.Add(solver.Sum([board[j][i] * 2**j for j in range(boardSize)]) !=\n",
    "                   solver.Sum([board[j][x] * 2**j for j in range(boardSize)]))\n",
    "\n",
    "# Max two cells next to each other should have the same value\n",
    "# TODO!\n",
    "    \n",
    "    \n",
    "# --------------------------------------------------------------------------------\n",
    "# Now solve it!\n",
    "# --------------------------------------------------------------------------------\n",
    "db = solver.Phase(list(np.concatenate(board)), # Sudoku board as array\n",
    "                solver.INT_VAR_SIMPLE,         # Variable selection policy for search\n",
    "                solver.INT_VALUE_SIMPLE)       # Value selection policy for search\n",
    "\n",
    "solver.NewSearch(db)\n",
    "\n",
    "if solver.NextSolution():\n",
    "    printSolution(board)\n",
    "    \n",
    "solver.EndSearch()\n",
    "\n",
    "#Display the number of solutions found:\n",
    "print(\"Solutions: {}\".format(solver.Solutions()))\n",
    "print(\"Runtime: {}ms\".format(solver.WallTime()))\n",
    "print(\"Failures: {}\".format(solver.Failures()))\n",
    "print(\"Branches: {}\".format(solver.Branches()))"
   ]
  },
  {
   "cell_type": "code",
   "execution_count": null,
   "metadata": {},
   "outputs": [],
   "source": []
  }
 ],
 "metadata": {
  "kernelspec": {
   "display_name": "Python 3",
   "language": "python",
   "name": "python3"
  },
  "language_info": {
   "codemirror_mode": {
    "name": "ipython",
    "version": 3
   },
   "file_extension": ".py",
   "mimetype": "text/x-python",
   "name": "python",
   "nbconvert_exporter": "python",
   "pygments_lexer": "ipython3",
   "version": "3.7.3"
  }
 },
 "nbformat": 4,
 "nbformat_minor": 2
}
