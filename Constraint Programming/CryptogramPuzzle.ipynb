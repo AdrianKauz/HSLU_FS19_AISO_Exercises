{
 "cells": [
  {
   "cell_type": "markdown",
   "metadata": {},
   "source": [
    "# Cryptogram Puzzle\n",
    "---\n",
    "_**Source**: Slides \"Constraint programming 1 - Modelling with OR-Tools\"_  \n",
    "_**Author**: Prof. Dr. Marc Pouly_"
   ]
  },
  {
   "cell_type": "markdown",
   "metadata": {},
   "source": [
    ">* The characters S, E, N, D, M, O, R, Y stand for digits between 0 and 9 \n",
    "* Numbers are built from digits in the usual, positional notation  \n",
    "* Repeated occurence of the same character denote the same digit\n",
    "* Different characters must take different digits\n",
    "* Numbers must not start with a zero\n",
    "* The following equation must hold...  \n",
    "<img style=\"float: left;\" src=\"images/CryptogramPuzzle.jpg\">"
   ]
  },
  {
   "cell_type": "markdown",
   "metadata": {},
   "source": [
    "## Imports"
   ]
  },
  {
   "cell_type": "code",
   "execution_count": 2,
   "metadata": {},
   "outputs": [],
   "source": [
    "from ortools.constraint_solver import pywrapcp"
   ]
  },
  {
   "cell_type": "markdown",
   "metadata": {},
   "source": [
    "## Helper functions"
   ]
  },
  {
   "cell_type": "code",
   "execution_count": 10,
   "metadata": {},
   "outputs": [],
   "source": [
    "def printSolution(send, more, money):\n",
    "    print(\"{:6d}\".format(send))\n",
    "    print(\"+ {:4d}\".format(more))\n",
    "    print(\"-\" * 6)\n",
    "    print(\"{:6d}\".format(money))\n",
    "    print()"
   ]
  },
  {
   "cell_type": "markdown",
   "metadata": {},
   "source": [
    "## Solution"
   ]
  },
  {
   "cell_type": "code",
   "execution_count": 12,
   "metadata": {},
   "outputs": [
    {
     "name": "stdout",
     "output_type": "stream",
     "text": [
      "  9567\n",
      "+ 1085\n",
      "------\n",
      " 10652\n",
      "\n",
      "Solutions: 1\n"
     ]
    }
   ],
   "source": [
    "solver = pywrapcp.Solver(\"Cryptogram\")\n",
    "\n",
    "# One decision variable for each character:\n",
    "S = solver.IntVar(0, 9)\n",
    "E = solver.IntVar(0, 9)\n",
    "N = solver.IntVar(0, 9)\n",
    "D = solver.IntVar(0, 9)\n",
    "M = solver.IntVar(0, 9)\n",
    "O = solver.IntVar(0, 9)\n",
    "R = solver.IntVar(0, 9)\n",
    "Y = solver.IntVar(0, 9)\n",
    "\n",
    "# SEND + MORE = MONEY\n",
    "send  = (S * 1000 + E * 100 + N * 10 + D).Var()\n",
    "more  = (M * 1000 + O * 100 + R * 10 + E).Var()\n",
    "money = (M * 10000 + O * 1000 + N * 100 + E * 10 + Y).Var()\n",
    "\n",
    "solver.Add(send + more == money)\n",
    "\n",
    "# Leading characters must not be zero:\n",
    "solver.Add(S != 0)\n",
    "solver.Add(M != 0)\n",
    "\n",
    "all_vars = [send, more, money]\n",
    "\n",
    "# All characters must take different values\n",
    "solver.Add(solver.AllDifferent([S, E, N, D, M, O, R, Y]))\n",
    "\n",
    "db = solver.Phase(all_vars,                 # Decision variables to resolve\n",
    "                  solver.INT_VAR_SIMPLE,    # Variable selection policy for search\n",
    "                  solver.INT_VALUE_SIMPLE)  # Value selection policy for search\n",
    "\n",
    "solver.NewSearch(db)\n",
    "\n",
    "while solver.NextSolution():\n",
    "    printSolution(send.Value(), more.Value(), money.Value())\n",
    "\n",
    "solver.EndSearch()\n",
    "\n",
    "#Display the number of solutions found:\n",
    "print(\"Solutions: {}\".format(solver.Solutions()))"
   ]
  },
  {
   "cell_type": "code",
   "execution_count": null,
   "metadata": {},
   "outputs": [],
   "source": []
  }
 ],
 "metadata": {
  "kernelspec": {
   "display_name": "Python 3",
   "language": "python",
   "name": "python3"
  },
  "language_info": {
   "codemirror_mode": {
    "name": "ipython",
    "version": 3
   },
   "file_extension": ".py",
   "mimetype": "text/x-python",
   "name": "python",
   "nbconvert_exporter": "python",
   "pygments_lexer": "ipython3",
   "version": "3.7.3"
  }
 },
 "nbformat": 4,
 "nbformat_minor": 2
}
