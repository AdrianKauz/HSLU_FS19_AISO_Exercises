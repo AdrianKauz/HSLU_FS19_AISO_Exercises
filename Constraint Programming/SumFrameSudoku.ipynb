{
 "cells": [
  {
   "cell_type": "markdown",
   "metadata": {},
   "source": [
    "# Sum Frame Sudoku\n",
    "---\n",
    "_**Source**: Slides \"Constraint programming 1 - Modelling with OR-Tools\"_  \n",
    "_**Author**: Adrian Kauz_"
   ]
  },
  {
   "cell_type": "markdown",
   "metadata": {},
   "source": [
    ">Fill in numbers from 1 to 9 so that each row, column and 3x3 block contains each number exactly once. Numbers in the outside frame equal the sum of the first three numbers in the corresponding row or column in the given direction."
   ]
  },
  {
   "cell_type": "markdown",
   "metadata": {},
   "source": [
    "![MagicSquares](images/SumFrameSudoku.png)"
   ]
  },
  {
   "cell_type": "markdown",
   "metadata": {},
   "source": [
    "## Imports"
   ]
  },
  {
   "cell_type": "code",
   "execution_count": 1,
   "metadata": {},
   "outputs": [],
   "source": [
    "from ortools.constraint_solver import pywrapcp\n",
    "import itertools\n",
    "import numpy as np"
   ]
  },
  {
   "cell_type": "markdown",
   "metadata": {},
   "source": [
    "## Helper functions"
   ]
  },
  {
   "cell_type": "code",
   "execution_count": 2,
   "metadata": {},
   "outputs": [],
   "source": [
    "def printSolution(currentSolution):\n",
    "    # Top Line\n",
    "    print(\"╔═══════════╦═══════════╦═══════════╗\")\n",
    "    \n",
    "    # Field\n",
    "    for row in range(9):\n",
    "        newRow = \"║ \"\n",
    "        \n",
    "        for column in range(9):\n",
    "            newRow += \"{}\".format(currentSolution[row][column].Value())\n",
    "            newRow += \" ║ \" if (column + 1) % 3 == 0 else \" │ \"            \n",
    "                                  \n",
    "        print(newRow)\n",
    "        \n",
    "        if((row == 2) or (row == 5)):\n",
    "            print(\"╠═══════════╬═══════════╬═══════════╣\")\n",
    "        else:\n",
    "            if (row != 8):\n",
    "                print(\"║───┼───┼───║───┼───┼───║───┼───┼───║\");\n",
    "        \n",
    "    # Bottom Line\n",
    "    print(\"╚═══════════╩═══════════╩═══════════╝\\n\")"
   ]
  },
  {
   "cell_type": "markdown",
   "metadata": {},
   "source": [
    "## Solution"
   ]
  },
  {
   "cell_type": "code",
   "execution_count": 3,
   "metadata": {},
   "outputs": [
    {
     "name": "stdout",
     "output_type": "stream",
     "text": [
      "╔═══════════╦═══════════╦═══════════╗\n",
      "║ 1 │ 4 │ 3 ║ 2 │ 8 │ 5 ║ 9 │ 6 │ 7 ║ \n",
      "║───┼───┼───║───┼───┼───║───┼───┼───║\n",
      "║ 8 │ 5 │ 2 ║ 6 │ 9 │ 7 ║ 4 │ 3 │ 1 ║ \n",
      "║───┼───┼───║───┼───┼───║───┼───┼───║\n",
      "║ 6 │ 9 │ 7 ║ 3 │ 4 │ 1 ║ 2 │ 8 │ 5 ║ \n",
      "╠═══════════╬═══════════╬═══════════╣\n",
      "║ 2 │ 3 │ 6 ║ 7 │ 1 │ 4 ║ 8 │ 5 │ 9 ║ \n",
      "║───┼───┼───║───┼───┼───║───┼───┼───║\n",
      "║ 4 │ 8 │ 1 ║ 9 │ 5 │ 6 ║ 3 │ 7 │ 2 ║ \n",
      "║───┼───┼───║───┼───┼───║───┼───┼───║\n",
      "║ 9 │ 7 │ 5 ║ 8 │ 2 │ 3 ║ 6 │ 1 │ 4 ║ \n",
      "╠═══════════╬═══════════╬═══════════╣\n",
      "║ 7 │ 2 │ 9 ║ 1 │ 3 │ 8 ║ 5 │ 4 │ 6 ║ \n",
      "║───┼───┼───║───┼───┼───║───┼───┼───║\n",
      "║ 5 │ 6 │ 8 ║ 4 │ 7 │ 2 ║ 1 │ 9 │ 3 ║ \n",
      "║───┼───┼───║───┼───┼───║───┼───┼───║\n",
      "║ 3 │ 1 │ 4 ║ 5 │ 6 │ 9 ║ 7 │ 2 │ 8 ║ \n",
      "╚═══════════╩═══════════╩═══════════╝\n",
      "\n",
      "Solutions: 1\n",
      "Runtime: 5ms\n",
      "Failures: 40\n",
      "Branches: 87\n"
     ]
    }
   ],
   "source": [
    "solver = pywrapcp.Solver(\"MagicSquares\")\n",
    "\n",
    "# n x n Matrix of Decision Variables\n",
    "board = [[solver.IntVar(1, 9) for _j in range(9)] for _i in range(9)]\n",
    "\n",
    "# Numbers of the outside frame of the Sum Frame Sudoku\n",
    "# Values are read from left to right or from top to bottom\n",
    "topFrame    = [15, 18, 12, 11, 21, 13, 15, 17, 13];\n",
    "bottomFrame = [15, 9, 21, 10, 16, 19, 13, 15, 17];\n",
    "leftFrame   = [8, 15, 22, 11, 13, 21, 18, 19, 8];\n",
    "rightFrame  = [22, 8, 15, 22, 12, 11, 15, 13, 17];\n",
    "\n",
    "\n",
    "# --------------------------------------------------------------------------------\n",
    "# Set constraints\n",
    "# --------------------------------------------------------------------------------\n",
    "# Each row/column contains only different values:\n",
    "for i in range(9):\n",
    "    solver.Add(solver.AllDifferent([board[i][j] for j in range(9)])) # Rows\n",
    "    solver.Add(solver.AllDifferent([board[j][i] for j in range(9)])) # Columns\n",
    "\n",
    "# Tuples (i, j) for all cell indices:\n",
    "cell_indices = list(itertools.product(range(3), repeat=2))\n",
    "\n",
    "# Every 3x3 cell contains only different values\n",
    "for i, j in cell_indices:\n",
    "    solver.Add(solver.AllDifferent([board[i * 3 + di] [j * 3 + dj] for di in range(3) for dj in range(3)]))\n",
    "\n",
    "# Now feed the solver with the outside frame number\n",
    "for x in range(9):\n",
    "    # Rows\n",
    "    solver.Add(solver.Sum([board[x][0], board[x][1], board[x][2]]) == leftFrame[x])\n",
    "    solver.Add(solver.Sum([board[x][6], board[x][7], board[x][8]]) == rightFrame[x])\n",
    "\n",
    "    # Columns\n",
    "    solver.Add(solver.Sum([board[0][x], board[1][x], board[2][x]]) == topFrame[x])\n",
    "    solver.Add(solver.Sum([board[6][x], board[7][x], board[8][x]]) == bottomFrame[x])\n",
    "\n",
    "\n",
    "# --------------------------------------------------------------------------------\n",
    "# Now solve it!\n",
    "# --------------------------------------------------------------------------------\n",
    "db = solver.Phase(list(np.concatenate(board)), # Sudoku board as array\n",
    "                solver.INT_VAR_SIMPLE,         # Variable selection policy for search\n",
    "                solver.INT_VALUE_SIMPLE)       # Value selection policy for search\n",
    "\n",
    "solver.NewSearch(db)\n",
    "\n",
    "if solver.NextSolution():\n",
    "    printSolution(board)\n",
    "    \n",
    "solver.EndSearch()\n",
    "\n",
    "#Display the number of solutions found:\n",
    "print(\"Solutions: {}\".format(solver.Solutions()))\n",
    "print(\"Runtime: {}ms\".format(solver.WallTime()))\n",
    "print(\"Failures: {}\".format(solver.Failures()))\n",
    "print(\"Branches: {}\".format(solver.Branches()))"
   ]
  },
  {
   "cell_type": "code",
   "execution_count": null,
   "metadata": {},
   "outputs": [],
   "source": []
  }
 ],
 "metadata": {
  "kernelspec": {
   "display_name": "Python 3",
   "language": "python",
   "name": "python3"
  },
  "language_info": {
   "codemirror_mode": {
    "name": "ipython",
    "version": 3
   },
   "file_extension": ".py",
   "mimetype": "text/x-python",
   "name": "python",
   "nbconvert_exporter": "python",
   "pygments_lexer": "ipython3",
   "version": "3.7.3"
  }
 },
 "nbformat": 4,
 "nbformat_minor": 2
}
