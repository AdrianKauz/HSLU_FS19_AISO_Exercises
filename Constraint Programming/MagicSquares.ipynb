{
 "cells": [
  {
   "cell_type": "markdown",
   "metadata": {},
   "source": [
    "# Magic Squares\n",
    "---\n",
    "_**Source**: Slides \"Constraint programming 1 - Modelling with OR-Tools\"_  \n",
    "_**Author**: Adrian Kauz_"
   ]
  },
  {
   "cell_type": "markdown",
   "metadata": {},
   "source": [
    ">A magic square is an arrangement of distinct integers in a square grid, such that the values in each row, in each column and in the two main diagonals all add up to the same number. If $n$ denotes a number of cells, the value 1 to $n$ are to be distributed."
   ]
  },
  {
   "cell_type": "markdown",
   "metadata": {},
   "source": [
    "![MagicSquares](images/MagicSquares.png)"
   ]
  },
  {
   "cell_type": "markdown",
   "metadata": {},
   "source": [
    ">Write an OR-TOOLS model for _Magic Squares_ of arbitary size."
   ]
  },
  {
   "cell_type": "markdown",
   "metadata": {},
   "source": [
    "## Imports"
   ]
  },
  {
   "cell_type": "code",
   "execution_count": 1,
   "metadata": {},
   "outputs": [],
   "source": [
    "from ortools.constraint_solver import pywrapcp\n",
    "import itertools\n",
    "import numpy as np"
   ]
  },
  {
   "cell_type": "markdown",
   "metadata": {},
   "source": [
    "## Helper functions"
   ]
  },
  {
   "cell_type": "code",
   "execution_count": 2,
   "metadata": {},
   "outputs": [],
   "source": [
    "def printSolution(currentSolution):\n",
    "    print(\"Possible solution:\")\n",
    "    \n",
    "    for row in range(len(currentSolution)):\n",
    "        currentRow = \"\"\n",
    "        for column in range(len(currentSolution[row])):\n",
    "            currentRow += \" {:02d}\".format(currentSolution[row][column].Value())\n",
    "            \n",
    "        print(currentRow)\n",
    "        \n",
    "    print(\"\")"
   ]
  },
  {
   "cell_type": "markdown",
   "metadata": {},
   "source": [
    "## Solution"
   ]
  },
  {
   "cell_type": "code",
   "execution_count": 3,
   "metadata": {},
   "outputs": [
    {
     "name": "stdout",
     "output_type": "stream",
     "text": [
      "Magic number: 34\n",
      "\n",
      "Possible solution:\n",
      " 01 02 15 16\n",
      " 12 14 03 05\n",
      " 13 07 10 04\n",
      " 08 11 06 09\n",
      "\n",
      "Solutions: 1\n",
      "Runtime: 2ms\n",
      "Failures: 7\n",
      "Branches: 18\n"
     ]
    }
   ],
   "source": [
    "# Size of the Magic Square\n",
    "boardSize = 4\n",
    "\n",
    "solver = pywrapcp.Solver(\"MagicSquares\")\n",
    "\n",
    "# Calculate magic number\n",
    "magicNumber = int(abs((pow(boardSize, 3) + boardSize) / 2))\n",
    "print(\"Magic number: {}\\n\".format(magicNumber))\n",
    "\n",
    "# n x n Matrix of Decision Variables\n",
    "board = [[solver.IntVar(1, boardSize * boardSize) for _j in range(boardSize)] for _i in range(boardSize)]\n",
    "\n",
    "\n",
    "# --------------------------------------------------------------------------------\n",
    "# Set constraints\n",
    "# --------------------------------------------------------------------------------\n",
    "# All squares different\n",
    "solver.Add(solver.AllDifferent(list(np.concatenate(board))))\n",
    "\n",
    "# Each row/column should equal the magic number\n",
    "for i in range(boardSize):\n",
    "    solver.Add(solver.Sum([board[i][j] for j in range(boardSize)]) == magicNumber) # Rows\n",
    "    solver.Add(solver.Sum([board[j][i] for j in range(boardSize)]) == magicNumber) # Columns\n",
    "\n",
    "# Same for the diagonal part\n",
    "solver.Add(solver.Sum([board[j][j] for j in range(boardSize)]) == magicNumber)                 # Top/Left to Bottom/Right\n",
    "solver.Add(solver.Sum([board[j][boardSize - 1 - j] for j in range(boardSize)]) == magicNumber) # Top/Right to Bottom/Left\n",
    "\n",
    "\n",
    "# --------------------------------------------------------------------------------\n",
    "# Now solve it!\n",
    "# --------------------------------------------------------------------------------\n",
    "db = solver.Phase(list(np.concatenate(board)), # Sudoku board as array\n",
    "                solver.INT_VAR_SIMPLE,         # Variable selection policy for search\n",
    "                solver.INT_VALUE_SIMPLE)       # Value selection policy for search\n",
    "\n",
    "solver.NewSearch(db)\n",
    "\n",
    "if solver.NextSolution():\n",
    "    printSolution(board)\n",
    "    \n",
    "solver.EndSearch()\n",
    "\n",
    "#Display the number of solutions found:\n",
    "print(\"Solutions: {}\".format(solver.Solutions()))\n",
    "print(\"Runtime: {}ms\".format(solver.WallTime()))\n",
    "print(\"Failures: {}\".format(solver.Failures()))\n",
    "print(\"Branches: {}\".format(solver.Branches()))"
   ]
  },
  {
   "cell_type": "code",
   "execution_count": null,
   "metadata": {},
   "outputs": [],
   "source": []
  }
 ],
 "metadata": {
  "kernelspec": {
   "display_name": "Python 3",
   "language": "python",
   "name": "python3"
  },
  "language_info": {
   "codemirror_mode": {
    "name": "ipython",
    "version": 3
   },
   "file_extension": ".py",
   "mimetype": "text/x-python",
   "name": "python",
   "nbconvert_exporter": "python",
   "pygments_lexer": "ipython3",
   "version": "3.7.3"
  }
 },
 "nbformat": 4,
 "nbformat_minor": 2
}
