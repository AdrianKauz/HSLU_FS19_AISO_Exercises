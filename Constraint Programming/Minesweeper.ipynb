{
 "cells": [
  {
   "cell_type": "markdown",
   "metadata": {},
   "source": [
    "# Minesweeper\n",
    "---\n",
    "_**Module**: HSLU - Artificial Intelligence - Search & Optimization (AISO)_  \n",
    "_**Source**: Slides \"Constraint programming 1 - Modelling with OR-Tools\"_  \n",
    "_**Author**: Adrian Kauz_"
   ]
  },
  {
   "cell_type": "markdown",
   "metadata": {},
   "source": [
    ">The player is presented with a grid of squares. Some randomly selected squares, unknown to the player, contain mines 💣. Other squares may display numbers indicating the count of mines present in the immediate neighborhood of the squares. Find all mines!"
   ]
  },
  {
   "cell_type": "markdown",
   "metadata": {},
   "source": [
    "## Imports"
   ]
  },
  {
   "cell_type": "code",
   "execution_count": 2,
   "metadata": {},
   "outputs": [],
   "source": [
    "from ortools.constraint_solver import pywrapcp\n",
    "import numpy as np"
   ]
  },
  {
   "cell_type": "markdown",
   "metadata": {},
   "source": [
    "## Helper functions"
   ]
  },
  {
   "cell_type": "code",
   "execution_count": 3,
   "metadata": {},
   "outputs": [],
   "source": [
    "def printSolution(currentSolution):\n",
    "    print(\"Possible solution:\")\n",
    "    \n",
    "    for row in range(len(currentSolution)):\n",
    "        currentRow = \"\"\n",
    "        for column in range(len(currentSolution[row])):\n",
    "            currentRow += \"{} \".format(currentSolution[row][column].Value())\n",
    "        \n",
    "        print(currentRow)"
   ]
  },
  {
   "cell_type": "markdown",
   "metadata": {},
   "source": [
    "## Solution"
   ]
  },
  {
   "cell_type": "code",
   "execution_count": 11,
   "metadata": {},
   "outputs": [
    {
     "name": "stdout",
     "output_type": "stream",
     "text": [
      "2\n",
      "4\n",
      "2\n",
      "Possible solution:\n",
      "1 -1 -1 -1 2 -1 -1 1 \n",
      "-1 1 2 -1 3 -1 -1 1 \n",
      "-1 2 -1 1 -1 -1 -1 0 \n",
      "-1 2 1 -1 -1 2 3 1 \n",
      "-1 -1 -1 2 -1 -1 -1 -1 \n",
      "1 -1 -1 -1 4 3 -1 -1 \n",
      "-1 1 -1 -1 4 -1 3 -1 \n",
      "1 -1 -1 2 -1 2 -1 1 \n",
      "Solutions: 1\n",
      "Runtime: 2ms\n",
      "Failures: 0\n",
      "Branches: 38\n"
     ]
    }
   ],
   "source": [
    "solver = pywrapcp.Solver(\"MineSweeper\")\n",
    "\n",
    "_ = None\n",
    "\n",
    "playground = [\n",
    "    [1, _, _, _, 2, _, _, 1],\n",
    "    [_, 1, 2, _, 3, _, _, 1],\n",
    "    [_, 2, _, 1, _, _, _, 0],\n",
    "    [_, 2, 1, _, _, 2, 3, 1],\n",
    "    [_, _, _, 2, _, _, _, _],\n",
    "    [1, _, _, _, 4, 3, _, _],\n",
    "    [_, 1, _, _, 4, _, 3, _],\n",
    "    [1, _, _, 2, _, 2, _, 1]\n",
    "]\n",
    "\n",
    "boardSize = len(playground)\n",
    "\n",
    "# n x n empty Matrix\n",
    "#board = [[None] * boardSize] * boardSize\n",
    "board = [[None for _j in range(boardSize)] for _i in range(boardSize)]\n",
    "\n",
    "# Feed board with Minesweeper Puzzle\n",
    "for row in range(boardSize):\n",
    "    for column in range(boardSize):\n",
    "        if(playground[row][column] is None):\n",
    "            board[row][column] = solver.IntVar(-1, 0)\n",
    "        else:\n",
    "            board[row][column] = solver.IntVar(0, 8)\n",
    "            solver.Add(board[row][column] == playground[row][column])\n",
    "\n",
    "\n",
    "# --------------------------------------------------------------------------------\n",
    "# Set constraints\n",
    "# --------------------------------------------------------------------------------\n",
    "for row in range(boardSize):\n",
    "    for column in range(boardSize):\n",
    "        if (playground[row][column] is not None):\n",
    "            rowRange = 0\n",
    "            columnRange = 0\n",
    "            rowOffset = 0\n",
    "            columnOffset = 0\n",
    "            \n",
    "            if (row == 0):\n",
    "                if (column == 0):\n",
    "                    rowRange = 2\n",
    "                    columnRange = 2\n",
    "                elif (column == boardSize - 1):\n",
    "                    rowRange = 2\n",
    "                    columnRange = 2\n",
    "                    rowOffset = 0\n",
    "                    columnOffset = -1\n",
    "                else:\n",
    "                    rowRange = 2\n",
    "                    columnRange = 3\n",
    "                    rowOffset = 0\n",
    "                    columnOffset = -1\n",
    "\n",
    "                print([playground[row + rowOffset + i][column + columnOffset + j] for i in range(rowRange) for j in range(columnRange)].count(None))\n",
    "                # solver.Add(solver.Sum([board[row + rowOffset + i][column + columnOffset + j] for i in range(rowRange) for j in range(columnRange)].count()) == 0)\n",
    "                \n",
    "\n",
    "\n",
    "# --------------------------------------------------------------------------------\n",
    "# Now solve it!\n",
    "# --------------------------------------------------------------------------------\n",
    "db = solver.Phase(list(np.concatenate(board)), # Sudoku board as array\n",
    "                solver.INT_VAR_SIMPLE,         # Variable selection policy for search\n",
    "                solver.INT_VALUE_SIMPLE)       # Value selection policy for search\n",
    "\n",
    "solver.NewSearch(db)\n",
    "\n",
    "if solver.NextSolution():\n",
    "    printSolution(board)\n",
    "    \n",
    "solver.EndSearch()\n",
    "\n",
    "#Display the number of solutions found:\n",
    "print(\"Solutions: {}\".format(solver.Solutions()))\n",
    "print(\"Runtime: {}ms\".format(solver.WallTime()))\n",
    "print(\"Failures: {}\".format(solver.Failures()))\n",
    "print(\"Branches: {}\".format(solver.Branches()))"
   ]
  },
  {
   "cell_type": "code",
   "execution_count": null,
   "metadata": {},
   "outputs": [],
   "source": []
  }
 ],
 "metadata": {
  "kernelspec": {
   "display_name": "Python 3",
   "language": "python",
   "name": "python3"
  },
  "language_info": {
   "codemirror_mode": {
    "name": "ipython",
    "version": 3
   },
   "file_extension": ".py",
   "mimetype": "text/x-python",
   "name": "python",
   "nbconvert_exporter": "python",
   "pygments_lexer": "ipython3",
   "version": "3.7.3"
  }
 },
 "nbformat": 4,
 "nbformat_minor": 2
}
